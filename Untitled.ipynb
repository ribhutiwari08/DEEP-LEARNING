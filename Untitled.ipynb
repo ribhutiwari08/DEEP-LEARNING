{
 "cells": [
  {
   "cell_type": "code",
   "execution_count": 9,
   "id": "a038e53b-81de-44ef-aea7-d60d4120ac29",
   "metadata": {},
   "outputs": [],
   "source": [
    "from ultralytics import YOLO\n",
    "import cv2\n",
    "import matplotlib.pyplot as plt\n",
    "\n",
    "\n",
    "model = YOLO(\"yolov8n.pt\") \n"
   ]
  },
  {
   "cell_type": "code",
   "execution_count": 12,
   "id": "a7108124-e861-417c-994c-893c2572c79d",
   "metadata": {},
   "outputs": [],
   "source": [
    "image_path = \"ribhu.jpg\" \n",
    "image = cv2.imread(image_path)\n",
    "image = cv2.cvtColor(image, cv2.COLOR_BGR2RGB) \n"
   ]
  },
  {
   "cell_type": "code",
   "execution_count": 13,
   "id": "2e7c6b65-9671-4723-8050-18e733d95e2a",
   "metadata": {},
   "outputs": [
    {
     "name": "stdout",
     "output_type": "stream",
     "text": [
      "\n",
      "image 1/1 R:\\LANGUAGE\\Deep Learning\\ribhu.jpg: 640x448 1 person, 429.4ms\n",
      "Speed: 4.7ms preprocess, 429.4ms inference, 2.8ms postprocess per image at shape (1, 3, 640, 448)\n"
     ]
    }
   ],
   "source": [
    "\n",
    "results = model(image_path)\n",
    "\n",
    "\n",
    "for result in results:\n",
    "    result.show()  \n"
   ]
  },
  {
   "cell_type": "code",
   "execution_count": null,
   "id": "d12bcda2-bbc8-4559-8256-6eb0e91b8d0b",
   "metadata": {},
   "outputs": [],
   "source": []
  },
  {
   "cell_type": "code",
   "execution_count": null,
   "id": "70f3ba9d-4a9a-4fb1-a1dd-c3663b6a8e24",
   "metadata": {},
   "outputs": [],
   "source": []
  }
 ],
 "metadata": {
  "kernelspec": {
   "display_name": "Python 3 (ipykernel)",
   "language": "python",
   "name": "python3"
  },
  "language_info": {
   "codemirror_mode": {
    "name": "ipython",
    "version": 3
   },
   "file_extension": ".py",
   "mimetype": "text/x-python",
   "name": "python",
   "nbconvert_exporter": "python",
   "pygments_lexer": "ipython3",
   "version": "3.12.7"
  }
 },
 "nbformat": 4,
 "nbformat_minor": 5
}
