{
 "cells": [
  {
   "cell_type": "code",
   "execution_count": 16,
   "id": "5cfa59fe-bb57-4895-a5c5-a83d42f7f130",
   "metadata": {},
   "outputs": [
    {
     "ename": "error",
     "evalue": "OpenCV(4.11.0) D:\\a\\opencv-python\\opencv-python\\opencv\\modules\\imgproc\\src\\color.cpp:199: error: (-215:Assertion failed) !_src.empty() in function 'cv::cvtColor'\n",
     "output_type": "error",
     "traceback": [
      "\u001b[1;31m---------------------------------------------------------------------------\u001b[0m",
      "\u001b[1;31merror\u001b[0m                                     Traceback (most recent call last)",
      "Cell \u001b[1;32mIn[16], line 11\u001b[0m\n\u001b[0;32m      9\u001b[0m ss \u001b[38;5;241m=\u001b[39m cv2\u001b[38;5;241m.\u001b[39mximgproc\u001b[38;5;241m.\u001b[39msegmentation\u001b[38;5;241m.\u001b[39mcreateSelectiveSearchSegmentation()\n\u001b[0;32m     10\u001b[0m ss\u001b[38;5;241m.\u001b[39msetBaseImage(image)\n\u001b[1;32m---> 11\u001b[0m ss\u001b[38;5;241m.\u001b[39mswitchToSelectiveSearchFast()  \u001b[38;5;66;03m# Fast mode\u001b[39;00m\n\u001b[0;32m     13\u001b[0m \u001b[38;5;66;03m# Get region proposals\u001b[39;00m\n\u001b[0;32m     14\u001b[0m rects \u001b[38;5;241m=\u001b[39m ss\u001b[38;5;241m.\u001b[39mprocess()\n",
      "\u001b[1;31merror\u001b[0m: OpenCV(4.11.0) D:\\a\\opencv-python\\opencv-python\\opencv\\modules\\imgproc\\src\\color.cpp:199: error: (-215:Assertion failed) !_src.empty() in function 'cv::cvtColor'\n"
     ]
    }
   ],
   "source": [
    "import cv2\n",
    "import numpy as np\n",
    "\n",
    "# Load image\n",
    "image_path = \"aquarium_pretrain/test/images\"\n",
    "image = cv2.imread(image_path)\n",
    "\n",
    "# Initialize Selective Search\n",
    "ss = cv2.ximgproc.segmentation.createSelectiveSearchSegmentation()\n",
    "ss.setBaseImage(image)\n",
    "ss.switchToSelectiveSearchFast()  # Fast mode\n",
    "\n",
    "# Get region proposals\n",
    "rects = ss.process()\n",
    "\n",
    "# Draw region proposals\n",
    "for (x, y, w, h) in rects[:100]:  # Show first 100 proposals\n",
    "    cv2.rectangle(image, (x, y), (x + w, y + h), (0, 255, 0), 2)\n",
    "\n",
    "cv2.imshow(\"Region Proposals\", image)\n",
    "cv2.waitKey(0)\n",
    "cv2.destroyAllWindows()\n"
   ]
  },
  {
   "cell_type": "code",
   "execution_count": null,
   "id": "cc5413b5-1072-4c91-823f-f354fe498b6a",
   "metadata": {},
   "outputs": [],
   "source": [
    "|"
   ]
  }
 ],
 "metadata": {
  "kernelspec": {
   "display_name": "Python 3 (ipykernel)",
   "language": "python",
   "name": "python3"
  },
  "language_info": {
   "codemirror_mode": {
    "name": "ipython",
    "version": 3
   },
   "file_extension": ".py",
   "mimetype": "text/x-python",
   "name": "python",
   "nbconvert_exporter": "python",
   "pygments_lexer": "ipython3",
   "version": "3.12.7"
  }
 },
 "nbformat": 4,
 "nbformat_minor": 5
}
