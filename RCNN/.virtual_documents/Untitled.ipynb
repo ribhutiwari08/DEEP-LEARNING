import cv2
import numpy as np

# Load image
image_path = "aquarium_pretrain/test/images/sample.jpg"
image = cv2.imread(image_path)

# Initialize Selective Search
ss = cv2.ximgproc.segmentation.createSelectiveSearchSegmentation()
ss.setBaseImage(image)
ss.switchToSelectiveSearchFast()  # Fast mode

# Get region proposals
rects = ss.process()

# Draw region proposals
for (x, y, w, h) in rects[:100]:  # Show first 100 proposals
    cv2.rectangle(image, (x, y), (x + w, y + h), (0, 255, 0), 2)

cv2.imshow("Region Proposals", image)
cv2.waitKey(0)
cv2.destroyAllWindows()




