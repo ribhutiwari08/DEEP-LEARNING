{
 "cells": [
  {
   "cell_type": "code",
   "execution_count": null,
   "id": "fcccc4c7-2dde-42ef-9615-d4822d04322b",
   "metadata": {},
   "outputs": [],
   "source": [
    "import torch \n",
    "import torch.nn as nn \n",
    "import gpytorch \n",
    "from matplotlib import pyplot as plt\n",
    "class DeepFeatureExtraction(nn.Module):\n",
    "  def __init__(self):\n",
    "    super().__init__()\n",
    "    self.fc1=nn.Linear(1,62)\n",
    "    self.fc2=nn.Linear(64,64)\n",
    "    self.fc3 = nn.Linear(64,2)\n",
    "  def forward(self,x):\n",
    "    x = torch.relu(self.fc1(x))\n",
    "    x=torch.relu(self.fc2(x))\n",
    "    return self.fc3(x)\n",
    "class DKL_GPModel(gpytorch.models.ExactGP):\n",
    "  def__init__(self,train_x,train_y,likelihood)\n",
    "    super().__init__(train_x,train_y,likelihood)"
   ]
  }
 ],
 "metadata": {
  "kernelspec": {
   "display_name": "Python 3 (ipykernel)",
   "language": "python",
   "name": "python3"
  },
  "language_info": {
   "codemirror_mode": {
    "name": "ipython",
    "version": 3
   },
   "file_extension": ".py",
   "mimetype": "text/x-python",
   "name": "python",
   "nbconvert_exporter": "python",
   "pygments_lexer": "ipython3",
   "version": "3.12.7"
  }
 },
 "nbformat": 4,
 "nbformat_minor": 5
}
