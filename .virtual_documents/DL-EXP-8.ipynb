


import numpy as np
import tensorflow as tf
from tensorflow.keras.models import Sequential
from tensorflow.keras.layers import SimpleRNN, Dense, Embedding
import matplotlib.pyplot as plt





text = "hello everyone i am ribhu bhushan tiwari baki apki ma."


chars = sorted(list(set(text)))


char2idx = {char: idx for idx, char in enumerate(chars)}
idx2char = {idx: char for idx, char in enumerate(chars)}


text_as_int = np.array([char2idx[c] for c in text])


seq_length = 40


step = 1
inputs = []
labels = []


for i in range(0, len(text_as_int) - seq_length, step):
    inputs.append(text_as_int[i: i + seq_length])
    labels.append(text_as_int[i + seq_length])


X = np.array(inputs)
y = tf.keras.utils.to_categorical(labels, num_classes=len(chars))


model = Sequential([
    Embedding(len(chars), 64, input_length=seq_length),  
    SimpleRNN(128),                                      
    Dense(len(chars), activation='softmax')              
])


model.compile(loss='categorical_crossentropy', optimizer='adam')
model.summary()


history = model.fit(X, y, epochs=30, batch_size=64)


def generate_text(model, seed_text, gen_length=100):
    generated = seed_text
    for _ in range(gen_length):
        input_seq = [char2idx.get(char, 0) for char in seed_text[-seq_length:]]
        input_seq = tf.expand_dims(input_seq, 0)
        preds = model.predict(input_seq, verbose=0)[0]
        next_index = np.random.choice(len(chars), p=preds)
        next_char = idx2char[next_index]
        generated += next_char
        seed_text += next_char
    return generated


seed = "this is an example of a"

generated_text = generate_text(model, seed_text=seed, gen_length=300)

print("\nGenerated Text:\n")
print(generated_text)













