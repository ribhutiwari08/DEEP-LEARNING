!pip install tensorflow opencv-python numpy matplotlib scikit-learn tensorflow-datasets




